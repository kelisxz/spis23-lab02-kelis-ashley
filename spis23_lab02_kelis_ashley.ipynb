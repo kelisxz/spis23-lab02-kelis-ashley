{
  "nbformat": 4,
  "nbformat_minor": 0,
  "metadata": {
    "colab": {
      "provenance": [],
      "include_colab_link": true
    },
    "kernelspec": {
      "name": "python3",
      "display_name": "Python 3"
    },
    "language_info": {
      "name": "python"
    }
  },
  "cells": [
    {
      "cell_type": "markdown",
      "metadata": {
        "id": "view-in-github",
        "colab_type": "text"
      },
      "source": [
        "<a href=\"https://colab.research.google.com/github/kelisxz/spis23-lab02-kelis-ashley/blob/main/spis23_lab02_kelis_ashley.ipynb\" target=\"_parent\"><img src=\"https://colab.research.google.com/assets/colab-badge.svg\" alt=\"Open In Colab\"/></a>"
      ]
    },
    {
      "cell_type": "code",
      "execution_count": null,
      "metadata": {
        "id": "qwpHIA06Chde",
        "outputId": "f943b58b-8fd0-4091-aaf7-a8836559b10a",
        "colab": {
          "base_uri": "https://localhost:8080/"
        }
      },
      "outputs": [
        {
          "output_type": "stream",
          "name": "stdout",
          "text": [
            "8\n"
          ]
        }
      ],
      "source": [
        "# The goal of this program is to practice Python constructs\n",
        "def sumTwo(a,b):\n",
        "  c = a + b\n",
        "  return c\n",
        "\n",
        "x = sumTwo(3,5)\n",
        "print(x)"
      ]
    },
    {
      "cell_type": "code",
      "source": [
        "def getNumber():\n",
        "  symbols = input(\"Enter a digit: \")\n",
        "  number = int(symbols)\n",
        "  return number\n",
        "\n",
        "def keepAskingNum():\n",
        "  str1 = ''\n",
        "  num = 0\n",
        "  while(num>=0):\n",
        "    num = getNumber()\n",
        "    if(num>=0):\n",
        "      str1=str1+(str)(num)\n",
        "  print(str1)\n",
        "\n",
        "keepAskingNum()\n",
        ""
      ],
      "metadata": {
        "id": "BBSQSc8AFhB-",
        "outputId": "e5d28863-1ed2-4bd0-8eca-6867393b7f0b",
        "colab": {
          "base_uri": "https://localhost:8080/"
        }
      },
      "execution_count": 15,
      "outputs": [
        {
          "output_type": "stream",
          "name": "stdout",
          "text": [
            "Enter a digit: 1\n",
            "Enter a digit: 2\n",
            "Enter a digit: 3\n",
            "Enter a digit: -1\n",
            "123\n"
          ]
        }
      ]
    }
  ]
}